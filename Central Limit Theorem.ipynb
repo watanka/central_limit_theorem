{
 "cells": [
  {
   "cell_type": "markdown",
   "metadata": {},
   "source": [
    "## Central Limit Theorem\n",
    "- 모집단의 분포와 관련없이 샘플링의 횟수를 늘릴수록, 샘플 평균들의 분포는 정규분포를 따르게된다."
   ]
  },
  {
   "cell_type": "code",
   "execution_count": 18,
   "metadata": {},
   "outputs": [],
   "source": [
    "import numpy as np\n",
    "import matplotlib.pyplot as plt\n",
    "\n",
    "pop = np.random.normal(size = 1000)"
   ]
  },
  {
   "cell_type": "code",
   "execution_count": 19,
   "metadata": {},
   "outputs": [
    {
     "data": {
      "text/plain": [
       "(array([  6.,  16.,  77., 166., 246., 231., 150.,  70.,  32.,   6.]),\n",
       " array([-3.19277104, -2.5563562 , -1.91994136, -1.28352651, -0.64711167,\n",
       "        -0.01069683,  0.62571802,  1.26213286,  1.8985477 ,  2.53496255,\n",
       "         3.17137739]),\n",
       " <a list of 10 Patch objects>)"
      ]
     },
     "execution_count": 19,
     "metadata": {},
     "output_type": "execute_result"
    },
    {
     "data": {
      "image/png": "[encoded data removed]",
      "text/plain": [
       "<Figure size 432x288 with 1 Axes>"
      ]
     },
     "metadata": {
      "needs_background": "light"
     },
     "output_type": "display_data"
    }
   ],
   "source": [
    "plt.title('population : normal distribution')\n",
    "plt.hist(pop)"
   ]
  },
  {
   "cell_type": "code",
   "execution_count": 40,
   "metadata": {},
   "outputs": [],
   "source": [
    "## 샘플링 횟수는 30 이상이여야한다고 한다?? 왜 30일까??\n",
    "sampling_size = 10\n",
    "\n",
    "sample_means = []\n",
    "for i in range(100) :\n",
    "    samples = np.random.choice(pop, sampling_size)\n",
    "    sample_means.append(np.mean(samples))"
   ]
  },
  {
   "cell_type": "code",
   "execution_count": 41,
   "metadata": {},
   "outputs": [
    {
     "data": {
      "text/plain": [
       "(array([ 1., 12., 14., 26., 22., 17.,  2.,  5.,  0.,  1.]),\n",
       " array([0.25105685, 0.4274691 , 0.60388134, 0.78029358, 0.95670582,\n",
       "        1.13311807, 1.30953031, 1.48594255, 1.66235479, 1.83876704,\n",
       "        2.01517928]),\n",
       " <a list of 10 Patch objects>)"
      ]
     },
     "execution_count": 41,
     "metadata": {},
     "output_type": "execute_result"
    },
    {
     "data": {
      "image/png": "[encoded data removed]",
      "text/plain": [
       "<Figure size 432x288 with 1 Axes>"
      ]
     },
     "metadata": {
      "needs_background": "light"
     },
     "output_type": "display_data"
    }
   ],
   "source": [
    "plt.title('distribution of sample means : n = 100')\n",
    "plt.hist(sample_means)"
   ]
  },
  {
   "cell_type": "code",
   "execution_count": 45,
   "metadata": {},
   "outputs": [],
   "source": [
    "sample_means = []\n",
    "for i in range(500000) :\n",
    "    samples = np.random.choice(pop, sampling_size)\n",
    "    sample_means.append(np.mean(samples))"
   ]
  },
  {
   "cell_type": "code",
   "execution_count": 46,
   "metadata": {},
   "outputs": [
    {
     "data": {
      "text/plain": [
       "(array([6.81200e+03, 9.90740e+04, 1.94042e+05, 1.33531e+05, 5.03920e+04,\n",
       "        1.30390e+04, 2.56800e+03, 4.66000e+02, 7.00000e+01, 6.00000e+00]),\n",
       " array([0.12259792, 0.42007139, 0.71754485, 1.01501832, 1.31249178,\n",
       "        1.60996525, 1.90743871, 2.20491218, 2.50238564, 2.79985911,\n",
       "        3.09733257]),\n",
       " <a list of 10 Patch objects>)"
      ]
     },
     "execution_count": 46,
     "metadata": {},
     "output_type": "execute_result"
    },
    {
     "data": {
      "image/png": "[encoded data removed]",
      "text/plain": [
       "<Figure size 432x288 with 1 Axes>"
      ]
     },
     "metadata": {
      "needs_background": "light"
     },
     "output_type": "display_data"
    }
   ],
   "source": [
    "plt.title('distribution of sample means : n = 500000')\n",
    "plt.hist(sample_means)"
   ]
  },
  {
   "cell_type": "markdown",
   "metadata": {},
   "source": [
    "- 샘플링 횟수가 커질수록, 샘플 평균들의 분포가 정규분포에 가까워짐을 볼 수 있다.\n",
    "- 모집단이 정규분포가 아닌 다른 분포여도 성립할까?"
   ]
  },
  {
   "cell_type": "code",
   "execution_count": 34,
   "metadata": {},
   "outputs": [],
   "source": [
    "pop = np.random.exponential(size = 1000)"
   ]
  },
  {
   "cell_type": "code",
   "execution_count": 35,
   "metadata": {},
   "outputs": [
    {
     "data": {
      "text/plain": [
       "(array([572., 245., 113.,  34.,  19.,  13.,   1.,   2.,   0.,   1.]),\n",
       " array([1.39767660e-03, 8.27582566e-01, 1.65376746e+00, 2.47995234e+00,\n",
       "        3.30613723e+00, 4.13232212e+00, 4.95850701e+00, 5.78469190e+00,\n",
       "        6.61087679e+00, 7.43706168e+00, 8.26324657e+00]),\n",
       " <a list of 10 Patch objects>)"
      ]
     },
     "execution_count": 35,
     "metadata": {},
     "output_type": "execute_result"
    },
    {
     "data": {
      "image/png": "[encoded data removed]",
      "text/plain": [
       "<Figure size 432x288 with 1 Axes>"
      ]
     },
     "metadata": {
      "needs_background": "light"
     },
     "output_type": "display_data"
    }
   ],
   "source": [
    "plt.title('population : exponential distribution')\n",
    "plt.hist(pop)"
   ]
  },
  {
   "cell_type": "code",
   "execution_count": 36,
   "metadata": {},
   "outputs": [],
   "source": [
    "sample_means = []\n",
    "for i in range(100) :\n",
    "    samples = np.random.choice(pop, sampling_size)\n",
    "    sample_means.append(np.mean(samples))"
   ]
  },
  {
   "cell_type": "code",
   "execution_count": 37,
   "metadata": {},
   "outputs": [
    {
     "data": {
      "text/plain": [
       "(array([ 2.,  7., 13., 17., 18., 18., 15.,  6.,  2.,  2.]),\n",
       " array([0.54583162, 0.63971647, 0.73360132, 0.82748617, 0.92137101,\n",
       "        1.01525586, 1.10914071, 1.20302556, 1.29691041, 1.39079525,\n",
       "        1.4846801 ]),\n",
       " <a list of 10 Patch objects>)"
      ]
     },
     "execution_count": 37,
     "metadata": {},
     "output_type": "execute_result"
    },
    {
     "data": {
      "image/png": "[encoded data removed]",
      "text/plain": [
       "<Figure size 432x288 with 1 Axes>"
      ]
     },
     "metadata": {
      "needs_background": "light"
     },
     "output_type": "display_data"
    }
   ],
   "source": [
    "plt.title('distribution of sample means : n = 100')\n",
    "plt.hist(sample_means)"
   ]
  },
  {
   "cell_type": "code",
   "execution_count": 38,
   "metadata": {},
   "outputs": [],
   "source": [
    "sample_means = []\n",
    "for i in range(10000) :\n",
    "    samples = np.random.choice(pop, sampling_size)\n",
    "    sample_means.append(np.mean(samples))"
   ]
  },
  {
   "cell_type": "code",
   "execution_count": 39,
   "metadata": {},
   "outputs": [
    {
     "data": {
      "text/plain": [
       "(array([  40.,  541., 1902., 3060., 2522., 1340.,  444.,  117.,   30.,\n",
       "           4.]),\n",
       " array([0.43003997, 0.56838977, 0.70673958, 0.84508939, 0.9834392 ,\n",
       "        1.12178901, 1.26013881, 1.39848862, 1.53683843, 1.67518824,\n",
       "        1.81353805]),\n",
       " <a list of 10 Patch objects>)"
      ]
     },
     "execution_count": 39,
     "metadata": {},
     "output_type": "execute_result"
    },
    {
     "data": {
      "image/png": "[encoded data removed]",
      "text/plain": [
       "<Figure size 432x288 with 1 Axes>"
      ]
     },
     "metadata": {
      "needs_background": "light"
     },
     "output_type": "display_data"
    }
   ],
   "source": [
    "plt.title('distribution of sample means : n = 10000')\n",
    "plt.hist(sample_means)"
   ]
  },
  {
   "cell_type": "markdown",
   "metadata": {},
   "source": [
    "- 마찬가지로 샘플 평균들의 분포가 정규분포를 따르는 것을 확인할 수 있다.\n",
    "- 그렇다면 왜 샘플링 사이즈는 30이 넘어야할까?"
   ]
  },
  {
   "cell_type": "markdown",
   "metadata": {},
   "source": [
    "- 검색하다 [관련글](https://www.researchgate.net/post/What_is_the_rationale_behind_the_magic_number_30_in_statistics)을 발견할 수 있었다.\n",
    "- 30이란 숫자는 중심극한정리를 위한 가정이 아니고, 샘플링을 통해 얻은 평균(모집단의 평균과 닮은)을 가지고 행할 z-test와 같은 테스트를 위한 가정이라고 한다."
   ]
  }
 ],
 "metadata": {
  "kernelspec": {
   "display_name": "Python 3",
   "language": "python",
   "name": "python3"
  },
  "language_info": {
   "codemirror_mode": {
    "name": "ipython",
    "version": 3
   },
   "file_extension": ".py",
   "mimetype": "text/x-python",
   "name": "python",
   "nbconvert_exporter": "python",
   "pygments_lexer": "ipython3",
   "version": "3.8.6"
  }
 },
 "nbformat": 4,
 "nbformat_minor": 4
}
